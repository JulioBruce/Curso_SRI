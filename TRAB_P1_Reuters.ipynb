{
 "cells": [
  {
   "cell_type": "markdown",
   "metadata": {},
   "source": [
    "# Projeto Final - Sistemas de Recuperação da Informação - Parte 1\n",
    "\n",
    "### Julio Bruce da Motta Azevedo"
   ]
  },
  {
   "cell_type": "markdown",
   "metadata": {},
   "source": [
    "## INDEXAÇÃO\n",
    "\n",
    "## Biblioteca Whoosh"
   ]
  },
  {
   "cell_type": "code",
   "execution_count": 1,
   "metadata": {
    "ExecuteTime": {
     "end_time": "2020-09-28T20:25:48.208680Z",
     "start_time": "2020-09-28T20:25:48.189150Z"
    }
   },
   "outputs": [],
   "source": [
    "# Importando as bibliotecas necessárias (Whoosh, nossa 'search-engine' de estudo; OS, para interface com o sistema operacional;\n",
    "# e IPython.core.display, para mostrar os resultados).\n",
    "\n",
    "import os\n",
    "from whoosh.index import create_in, open_dir\n",
    "from whoosh.fields import *\n",
    "from whoosh.analysis import CharsetFilter, StemmingAnalyzer\n",
    "from whoosh import fields\n",
    "from whoosh.support.charset import accent_map\n",
    "from IPython.core.display import display, HTML"
   ]
  },
  {
   "cell_type": "code",
   "execution_count": 2,
   "metadata": {
    "ExecuteTime": {
     "end_time": "2020-09-28T20:35:58.243813Z",
     "start_time": "2020-09-28T20:35:58.237270Z"
    }
   },
   "outputs": [],
   "source": [
    "# Definição do 'schema' (campos dos documentos em um índice), bem como criação do diretório local para trabalhar o corpus.\n",
    "\n",
    "analizer = StemmingAnalyzer() | CharsetFilter(accent_map)\n",
    "schema = Schema(content=TEXT(stored=True, analyzer=analizer), tid=TEXT(stored=True))\n",
    "if os.path.exists('dir_index'):\n",
    "    ix = open_dir('dir_index')\n",
    "else:\n",
    "    os.mkdir('dir_index')\n",
    "    ix = create_in('dir_index', schema)"
   ]
  },
  {
   "cell_type": "code",
   "execution_count": 3,
   "metadata": {
    "ExecuteTime": {
     "end_time": "2020-09-28T20:35:59.096875Z",
     "start_time": "2020-09-28T20:35:59.091558Z"
    }
   },
   "outputs": [],
   "source": [
    "# Importando o corpus escolhido (Reuters).\n",
    "\n",
    "import nltk\n",
    "from nltk.corpus import reuters"
   ]
  },
  {
   "cell_type": "code",
   "execution_count": 4,
   "metadata": {
    "ExecuteTime": {
     "end_time": "2020-09-28T20:36:00.257625Z",
     "start_time": "2020-09-28T20:35:59.981192Z"
    }
   },
   "outputs": [],
   "source": [
    "# Criação do 'texto-puro' do corpus Reuters.\n",
    "\n",
    "textos = [reuters.raw(fid) for fid in reuters.fileids()]"
   ]
  },
  {
   "cell_type": "code",
   "execution_count": 5,
   "metadata": {
    "ExecuteTime": {
     "end_time": "2020-09-28T20:36:44.540297Z",
     "start_time": "2020-09-28T20:36:01.271715Z"
    }
   },
   "outputs": [],
   "source": [
    "# Após a definição do 'schema', podemos modificá-lo ou adicionar campos (documentos), com métodos do objeto 'writer'.\n",
    "\n",
    "writer = ix.writer()\n",
    "for tid in reuters.fileids():\n",
    "    writer.add_document(content=reuters.raw(tid), tid=tid)\n",
    "writer.commit()"
   ]
  },
  {
   "cell_type": "code",
   "execution_count": 6,
   "metadata": {
    "ExecuteTime": {
     "end_time": "2020-09-28T20:27:23.813527Z",
     "start_time": "2020-09-28T20:27:23.810344Z"
    }
   },
   "outputs": [],
   "source": [
    "# 'QueryParser' converte a string inserida pela consulta do usuário em uma consulta de objetos.\n",
    "\n",
    "from whoosh.qparser import QueryParser"
   ]
  },
  {
   "cell_type": "code",
   "execution_count": 7,
   "metadata": {
    "ExecuteTime": {
     "end_time": "2020-09-28T20:39:59.638148Z",
     "start_time": "2020-09-28T20:39:58.641242Z"
    }
   },
   "outputs": [
    {
     "data": {
      "text/html": [
       "<b>training/9532: </bauto industry and <b class=\"match term0\">Canada</b>'s cultural identity...I do not question <b class=\"match term0\">Canada</b>'s right to protect...<b class=\"match term1\">economic</b>\n",
       "  issues off the table in these negotiations"
      ],
      "text/plain": [
       "<IPython.core.display.HTML object>"
      ]
     },
     "metadata": {},
     "output_type": "display_data"
    },
    {
     "data": {
      "text/html": [
       "<b>training/9532: </bCONCERNED ABOUT <b class=\"match term2\">CANADA</b>\n",
       "  The chairman of the...auto industry and <b class=\"match term0\">Canada</b>'s cultural identity...I do not question <b class=\"match term0\">Canada</b>'s right to protect"
      ],
      "text/plain": [
       "<IPython.core.display.HTML object>"
      ]
     },
     "metadata": {},
     "output_type": "display_data"
    },
    {
     "data": {
      "text/html": [
       "<b>training/9532: </bCONCERNED ABOUT <b class=\"match term2\">CANADA</b>\n",
       "  The chairman of the...<b class=\"match term1\">economic</b>\n",
       "  issues off the table in these negotiations...did\n",
       "  when I was in <b class=\"match term0\">Canada</b> -- that only a mutually"
      ],
      "text/plain": [
       "<IPython.core.display.HTML object>"
      ]
     },
     "metadata": {},
     "output_type": "display_data"
    },
    {
     "data": {
      "text/html": [
       "<b>training/9532: </bauto industry and <b class=\"match term0\">Canada</b>'s cultural identity...I do not question <b class=\"match term0\">Canada</b>'s right to protect...<b class=\"match term1\">economic</b>\n",
       "  issues off the table in these negotiations"
      ],
      "text/plain": [
       "<IPython.core.display.HTML object>"
      ]
     },
     "metadata": {},
     "output_type": "display_data"
    },
    {
     "data": {
      "text/html": [
       "<b>training/9532: </bCONCERNED ABOUT <b class=\"match term2\">CANADA</b>\n",
       "  The chairman of the...protecting Canadian\n",
       "  <b class=\"match term3\">political</b> sovereignty...I do not question <b class=\"match term0\">Canada</b>'s right to protect"
      ],
      "text/plain": [
       "<IPython.core.display.HTML object>"
      ]
     },
     "metadata": {},
     "output_type": "display_data"
    },
    {
     "data": {
      "text/html": [
       "<b>training/9532: </bauto industry and <b class=\"match term0\">Canada</b>'s cultural identity...I do not question <b class=\"match term0\">Canada</b>'s right to protect...<b class=\"match term1\">economic</b>\n",
       "  issues off the table in these negotiations"
      ],
      "text/plain": [
       "<IPython.core.display.HTML object>"
      ]
     },
     "metadata": {},
     "output_type": "display_data"
    },
    {
     "data": {
      "text/html": [
       "<b>training/9532: </bCONCERNED ABOUT <b class=\"match term2\">CANADA</b>\n",
       "  The chairman of the...protecting Canadian\n",
       "  <b class=\"match term3\">political</b> sovereignty...auto industry and <b class=\"match term0\">Canada</b>'s cultural identity"
      ],
      "text/plain": [
       "<IPython.core.display.HTML object>"
      ]
     },
     "metadata": {},
     "output_type": "display_data"
    },
    {
     "data": {
      "text/html": [
       "<b>training/9532: </bCONCERNED ABOUT <b class=\"match term2\">CANADA</b>\n",
       "  The chairman of the...protecting Canadian\n",
       "  <b class=\"match term3\">political</b> sovereignty...<b class=\"match term1\">economic</b>\n",
       "  issues off the table in these negotiations"
      ],
      "text/plain": [
       "<IPython.core.display.HTML object>"
      ]
     },
     "metadata": {},
     "output_type": "display_data"
    },
    {
     "data": {
      "text/html": [
       "<b>training/718: </bGROUP SAYS\n",
       "  <b class=\"match term0\">Canada</b>'s decision to raise...to be\n",
       "  overwhelmed <b class=\"match term4\">economically</b> and <b class=\"match term0\">politically</b> by a closer...that in the talks, <b class=\"match term0\">Canada</b> is chiefly\n",
       "  interested"
      ],
      "text/plain": [
       "<IPython.core.display.HTML object>"
      ]
     },
     "metadata": {},
     "output_type": "display_data"
    },
    {
     "data": {
      "text/html": [
       "<b>training/718: </bIt suggests the <b class=\"match term0\">Canada</b> of the immediate...to be\n",
       "  overwhelmed <b class=\"match term4\">economically</b> and <b class=\"match term0\">politically</b> by a closer...that in the talks, <b class=\"match term0\">Canada</b> is chiefly\n",
       "  interested"
      ],
      "text/plain": [
       "<IPython.core.display.HTML object>"
      ]
     },
     "metadata": {},
     "output_type": "display_data"
    }
   ],
   "source": [
    "# Apresentação (com destaque via 'hit.highlights') dos TOP10 documentos que podem atender à consulta, com respectivos trechos.\n",
    "# Por padrão, o Whoosh ordena os resultados da consulta ('high-score').\n",
    "# Pode-se também, caso se queira, usar o argumento 'sortedby' para usar outro critério de ordenação.\n",
    "\n",
    "qw = \"politics and economics of canada\"\n",
    "qp = QueryParser(\"content\", ix.schema)\n",
    "query = qp.parse(qw)\n",
    "with ix.searcher() as searcher:\n",
    "    results = searcher.search(query)\n",
    "    for hit in results:\n",
    "        tid = hit.fields()['tid']\n",
    "        display(HTML(f'<b>{tid}: </b'+ hit.highlights(\"content\")))"
   ]
  },
  {
   "cell_type": "code",
   "execution_count": null,
   "metadata": {},
   "outputs": [],
   "source": []
  }
 ],
 "metadata": {
  "kernelspec": {
   "display_name": "Python 3",
   "language": "python",
   "name": "python3"
  },
  "language_info": {
   "codemirror_mode": {
    "name": "ipython",
    "version": 3
   },
   "file_extension": ".py",
   "mimetype": "text/x-python",
   "name": "python",
   "nbconvert_exporter": "python",
   "pygments_lexer": "ipython3",
   "version": "3.8.3"
  },
  "latex_envs": {
   "LaTeX_envs_menu_present": true,
   "autoclose": false,
   "autocomplete": true,
   "bibliofile": "biblio.bib",
   "cite_by": "apalike",
   "current_citInitial": 1,
   "eqLabelWithNumbers": true,
   "eqNumInitial": 1,
   "hotkeys": {
    "equation": "Ctrl-E",
    "itemize": "Ctrl-I"
   },
   "labels_anchors": false,
   "latex_user_defs": false,
   "report_style_numbering": false,
   "user_envs_cfg": false
  },
  "toc": {
   "base_numbering": 1,
   "nav_menu": {},
   "number_sections": true,
   "sideBar": true,
   "skip_h1_title": false,
   "title_cell": "Table of Contents",
   "title_sidebar": "Contents",
   "toc_cell": false,
   "toc_position": {},
   "toc_section_display": true,
   "toc_window_display": false
  },
  "varInspector": {
   "cols": {
    "lenName": 16,
    "lenType": 16,
    "lenVar": 40
   },
   "kernels_config": {
    "python": {
     "delete_cmd_postfix": "",
     "delete_cmd_prefix": "del ",
     "library": "var_list.py",
     "varRefreshCmd": "print(var_dic_list())"
    },
    "r": {
     "delete_cmd_postfix": ") ",
     "delete_cmd_prefix": "rm(",
     "library": "var_list.r",
     "varRefreshCmd": "cat(var_dic_list()) "
    }
   },
   "types_to_exclude": [
    "module",
    "function",
    "builtin_function_or_method",
    "instance",
    "_Feature"
   ],
   "window_display": false
  }
 },
 "nbformat": 4,
 "nbformat_minor": 1
}
